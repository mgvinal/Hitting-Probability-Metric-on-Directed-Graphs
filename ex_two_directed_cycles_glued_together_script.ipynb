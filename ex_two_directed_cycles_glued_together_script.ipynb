{
 "cells": [
  {
   "cell_type": "code",
   "execution_count": 6,
   "id": "2ddf282b",
   "metadata": {},
   "outputs": [
    {
     "name": "stderr",
     "output_type": "stream",
     "text": [
      "C:\\Users\\Maddy\\AppData\\Local\\Temp\\ipykernel_23184\\3593004854.py:28: RuntimeWarning: divide by zero encountered in log\n",
      "  d12 = -np.log(get_Ahp(P))\n",
      "C:\\Users\\Maddy\\AppData\\Local\\Temp\\ipykernel_23184\\3593004854.py:33: RuntimeWarning: divide by zero encountered in log\n",
      "  d1 = -np.log(get_Ahp(P, 1))\n",
      "C:\\Users\\Maddy\\AppData\\Local\\Temp\\ipykernel_23184\\3593004854.py:36: RuntimeWarning: invalid value encountered in divide\n",
      "  assert (np.nanmax(((d1 - np.transpose(d1)) / d1)) < 0.001)\n"
     ]
    }
   ],
   "source": [
    "# create a graph with two cycles glued along a path\n",
    "import numpy as np\n",
    "import matplotlib.pyplot as plt\n",
    "tt = 60 # numpber of vertices in each cycle\n",
    "m = 5 # number of shared vertices\n",
    "n = 2 * tt - m # total number of vertices\n",
    "P = np.zeros((n, n))\n",
    "\n",
    "#fill first cycle\n",
    "for ii in range(0, tt-1):\n",
    "    P[ii, ii + 1] = 1\n",
    "\n",
    "# last vertex in the first cycle splits\n",
    "P[tt - 1, 0] = 0.5\n",
    "P[tt - 1, tt] = 0.5\n",
    "\n",
    "# second cycle\n",
    "for ii in range(tt, n - 1):\n",
    "    P[ii, ii + 1] = 1\n",
    "    \n",
    "# last vertex of second cycle joins back to the tt-m+1 vertex\n",
    "P[n - 1, tt - m] = 1\n",
    "\n",
    "# compute extended effective resistance on P\n",
    "R = extEffRes(P)   \n",
    "R = np.sqrt(R)\n",
    "\n",
    "# compute the hitting probability matrix when beta=1/2\n",
    "d12 = -np.log(get_Ahp(P))\n",
    "for i in range(0, n):\n",
    "    d12[i, i] = 0\n",
    "\n",
    "# compute the hitting probability matrix when beta=1\n",
    "d1 = -np.log(get_Ahp(P, 1))\n",
    "for i in range(0, n):\n",
    "    d1[i, i] = 0\n",
    "assert (np.nanmax(((d1 - np.transpose(d1)) / d1)) < 0.001)\n",
    "r = np.rint((tt - m) / 2)\n",
    "\n",
    "\n",
    "plt.imshow(R, cmap='viridis', interpolation='nearest')\n",
    "plt.title(\"Extended Effective Resistance for 2 Directed Cycles\")\n",
    "plt.colorbar()\n",
    "plt.show()\n",
    "\n",
    "plt.imshow(d1, cmap='viridis', interpolation='nearest')\n",
    "plt.title(\"Hitting Probabilities B=1 for 2 Directed Cycles\")\n",
    "plt.colorbar()\n",
    "plt.show()\n",
    "\n",
    "plt.imshow(d12, cmap='viridis', interpolation='nearest')\n",
    "plt.title(\"Hitting Probabilities B=1/2 for 2 Directed Cycles\")\n",
    "plt.colorbar()\n",
    "plt.show()"
   ]
  }
 ],
 "metadata": {
  "kernelspec": {
   "display_name": "Python 3 (ipykernel)",
   "language": "python",
   "name": "python3"
  },
  "language_info": {
   "codemirror_mode": {
    "name": "ipython",
    "version": 3
   },
   "file_extension": ".py",
   "mimetype": "text/x-python",
   "name": "python",
   "nbconvert_exporter": "python",
   "pygments_lexer": "ipython3",
   "version": "3.10.9"
  }
 },
 "nbformat": 4,
 "nbformat_minor": 5
}
